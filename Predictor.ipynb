{
 "cells": [
  {
   "cell_type": "code",
   "execution_count": 316,
   "id": "ee9b9d8e",
   "metadata": {},
   "outputs": [],
   "source": [
    "import pandas as pd  \n",
    "import numpy as np\n",
    "import re\n",
    "import seaborn as sns\n",
    "import matplotlib.pyplot as plt"
   ]
  },
  {
   "cell_type": "code",
   "execution_count": 317,
   "id": "4d17782b",
   "metadata": {},
   "outputs": [
    {
     "data": {
      "text/html": [
       "<div>\n",
       "<style scoped>\n",
       "    .dataframe tbody tr th:only-of-type {\n",
       "        vertical-align: middle;\n",
       "    }\n",
       "\n",
       "    .dataframe tbody tr th {\n",
       "        vertical-align: top;\n",
       "    }\n",
       "\n",
       "    .dataframe thead th {\n",
       "        text-align: right;\n",
       "    }\n",
       "</style>\n",
       "<table border=\"1\" class=\"dataframe\">\n",
       "  <thead>\n",
       "    <tr style=\"text-align: right;\">\n",
       "      <th></th>\n",
       "      <th>Company_name</th>\n",
       "      <th>Project_name</th>\n",
       "      <th>Rooms</th>\n",
       "      <th>BHK</th>\n",
       "      <th>Type</th>\n",
       "      <th>Rera_Details</th>\n",
       "      <th>latitude</th>\n",
       "      <th>longitude</th>\n",
       "      <th>Price</th>\n",
       "      <th>Price_per_sft</th>\n",
       "      <th>Area_in_sft</th>\n",
       "      <th>Construction_Status</th>\n",
       "      <th>Bathrooms</th>\n",
       "    </tr>\n",
       "  </thead>\n",
       "  <tbody>\n",
       "    <tr>\n",
       "      <th>0</th>\n",
       "      <td>VRL Constructions</td>\n",
       "      <td>VRL Happy Homes</td>\n",
       "      <td>2</td>\n",
       "      <td>BHK</td>\n",
       "      <td>Apartment</td>\n",
       "      <td>Yes</td>\n",
       "      <td>12.881938</td>\n",
       "      <td>77.788353</td>\n",
       "      <td>48.79 L</td>\n",
       "      <td>4,538 / sq ft</td>\n",
       "      <td>1075</td>\n",
       "      <td>Under Construction</td>\n",
       "      <td>2 Bathrooms</td>\n",
       "    </tr>\n",
       "    <tr>\n",
       "      <th>1</th>\n",
       "      <td>Subram Builders Bangalore</td>\n",
       "      <td>Subram Jade Gardens</td>\n",
       "      <td>2</td>\n",
       "      <td>BHK</td>\n",
       "      <td>Apartment</td>\n",
       "      <td>Yes</td>\n",
       "      <td>13.045972</td>\n",
       "      <td>77.503059</td>\n",
       "      <td>1.06 Cr</td>\n",
       "      <td>7,500 / sq ft</td>\n",
       "      <td>1416</td>\n",
       "      <td>Under Construction</td>\n",
       "      <td>2 Bathrooms</td>\n",
       "    </tr>\n",
       "    <tr>\n",
       "      <th>2</th>\n",
       "      <td>Prominent Infra</td>\n",
       "      <td>Prominent Chourasia Revanta</td>\n",
       "      <td>2</td>\n",
       "      <td>BHK</td>\n",
       "      <td>Apartment</td>\n",
       "      <td>Yes</td>\n",
       "      <td>13.014944</td>\n",
       "      <td>77.739006</td>\n",
       "      <td>79.98 L</td>\n",
       "      <td>6,450 / sq ft</td>\n",
       "      <td>1240</td>\n",
       "      <td>Under Construction</td>\n",
       "      <td>2 Bathrooms</td>\n",
       "    </tr>\n",
       "    <tr>\n",
       "      <th>3</th>\n",
       "      <td>Bhuvesta Constructions</td>\n",
       "      <td>Bhuvesta Lourdes Nest</td>\n",
       "      <td>3</td>\n",
       "      <td>BHK</td>\n",
       "      <td>Apartment</td>\n",
       "      <td>Yes</td>\n",
       "      <td>13.013747</td>\n",
       "      <td>77.702782</td>\n",
       "      <td>1.15 Cr</td>\n",
       "      <td>6,999 / sq ft</td>\n",
       "      <td>1656</td>\n",
       "      <td>Under Construction</td>\n",
       "      <td>2 Bathrooms</td>\n",
       "    </tr>\n",
       "    <tr>\n",
       "      <th>4</th>\n",
       "      <td>Trifecta Projects Pvt Ltd</td>\n",
       "      <td>Trifecta TRIFECTA VANTO PHASE 1</td>\n",
       "      <td>3</td>\n",
       "      <td>BHK</td>\n",
       "      <td>Apartment</td>\n",
       "      <td>Yes</td>\n",
       "      <td>12.881692</td>\n",
       "      <td>77.714157</td>\n",
       "      <td>1.24 Cr</td>\n",
       "      <td>9,282 / sq ft</td>\n",
       "      <td>1340</td>\n",
       "      <td>Under Construction</td>\n",
       "      <td>2 Bathrooms</td>\n",
       "    </tr>\n",
       "  </tbody>\n",
       "</table>\n",
       "</div>"
      ],
      "text/plain": [
       "                Company_name                     Project_name  Rooms   BHK  \\\n",
       "0          VRL Constructions                  VRL Happy Homes      2  BHK    \n",
       "1  Subram Builders Bangalore              Subram Jade Gardens      2  BHK    \n",
       "2            Prominent Infra      Prominent Chourasia Revanta      2  BHK    \n",
       "3     Bhuvesta Constructions            Bhuvesta Lourdes Nest      3  BHK    \n",
       "4  Trifecta Projects Pvt Ltd  Trifecta TRIFECTA VANTO PHASE 1      3  BHK    \n",
       "\n",
       "        Type Rera_Details   latitude  longitude     Price  Price_per_sft  \\\n",
       "0  Apartment          Yes  12.881938  77.788353   48.79 L  4,538 / sq ft   \n",
       "1  Apartment          Yes  13.045972  77.503059   1.06 Cr  7,500 / sq ft   \n",
       "2  Apartment          Yes  13.014944  77.739006   79.98 L  6,450 / sq ft   \n",
       "3  Apartment          Yes  13.013747  77.702782   1.15 Cr  6,999 / sq ft   \n",
       "4  Apartment          Yes  12.881692  77.714157   1.24 Cr  9,282 / sq ft   \n",
       "\n",
       "   Area_in_sft Construction_Status    Bathrooms  \n",
       "0         1075  Under Construction  2 Bathrooms  \n",
       "1         1416  Under Construction  2 Bathrooms  \n",
       "2         1240  Under Construction  2 Bathrooms  \n",
       "3         1656  Under Construction  2 Bathrooms  \n",
       "4         1340  Under Construction  2 Bathrooms  "
      ]
     },
     "execution_count": 317,
     "metadata": {},
     "output_type": "execute_result"
    }
   ],
   "source": [
    "dataset=pd.read_csv(r\"C:\\Users\\lavan\\Desktop\\Real_Estate_Dataset\\practice.csv\")\n",
    "dataset.head()"
   ]
  },
  {
   "cell_type": "code",
   "execution_count": 318,
   "id": "da4872b8",
   "metadata": {},
   "outputs": [],
   "source": [
    "# Convert price which is in the lakhs and crores format into rupees\n",
    "def convert_price(Price):\n",
    "    raw_price=Price.split()\n",
    "    converted=0\n",
    "    if raw_price[1] == \"L\":\n",
    "        converted_price=float(raw_price[0])*100000\n",
    "    elif raw_price[1] == \"Cr\":\n",
    "        converted_price=float(raw_price[0])*10000000\n",
    "    else:\n",
    "        converted_price=int(raw_price[0])\n",
    "    return converted_price"
   ]
  },
  {
   "cell_type": "code",
   "execution_count": 319,
   "id": "54ec9807",
   "metadata": {},
   "outputs": [],
   "source": [
    "dataset[\"Price\"] = dataset[\"Price\"].apply(convert_price)"
   ]
  },
  {
   "cell_type": "code",
   "execution_count": 320,
   "id": "0c4fc04c",
   "metadata": {},
   "outputs": [],
   "source": [
    "#Remove \"/ sq ft\" in Price_per_sft column\n",
    "def clean_value(Price_per_sft):\n",
    "    pattern = r\"[\\d,]+\"\n",
    "    text = Price_per_sft\n",
    "    match = re.search(pattern, text)\n",
    "    if match:\n",
    "        raw_string = match.group()\n",
    "        clean_value = int(raw_string.replace(\",\",\"\"))\n",
    "        return clean_value"
   ]
  },
  {
   "cell_type": "code",
   "execution_count": 321,
   "id": "9fbf2af9",
   "metadata": {},
   "outputs": [],
   "source": [
    "dataset[\"Price_per_sft\"] = dataset[\"Price_per_sft\"].apply(clean_value)"
   ]
  },
  {
   "cell_type": "code",
   "execution_count": 322,
   "id": "6452cbcf",
   "metadata": {},
   "outputs": [
    {
     "data": {
      "text/html": [
       "<div>\n",
       "<style scoped>\n",
       "    .dataframe tbody tr th:only-of-type {\n",
       "        vertical-align: middle;\n",
       "    }\n",
       "\n",
       "    .dataframe tbody tr th {\n",
       "        vertical-align: top;\n",
       "    }\n",
       "\n",
       "    .dataframe thead th {\n",
       "        text-align: right;\n",
       "    }\n",
       "</style>\n",
       "<table border=\"1\" class=\"dataframe\">\n",
       "  <thead>\n",
       "    <tr style=\"text-align: right;\">\n",
       "      <th></th>\n",
       "      <th>Company_name</th>\n",
       "      <th>Project_name</th>\n",
       "      <th>Rooms</th>\n",
       "      <th>BHK</th>\n",
       "      <th>Type</th>\n",
       "      <th>Rera_Details</th>\n",
       "      <th>latitude</th>\n",
       "      <th>longitude</th>\n",
       "      <th>Price</th>\n",
       "      <th>Price_per_sft</th>\n",
       "      <th>Area_in_sft</th>\n",
       "      <th>Construction_Status</th>\n",
       "      <th>Bathrooms</th>\n",
       "    </tr>\n",
       "  </thead>\n",
       "  <tbody>\n",
       "    <tr>\n",
       "      <th>0</th>\n",
       "      <td>VRL Constructions</td>\n",
       "      <td>VRL Happy Homes</td>\n",
       "      <td>2</td>\n",
       "      <td>BHK</td>\n",
       "      <td>Apartment</td>\n",
       "      <td>Yes</td>\n",
       "      <td>12.881938</td>\n",
       "      <td>77.788353</td>\n",
       "      <td>4879000.0</td>\n",
       "      <td>4538</td>\n",
       "      <td>1075</td>\n",
       "      <td>Under Construction</td>\n",
       "      <td>2 Bathrooms</td>\n",
       "    </tr>\n",
       "    <tr>\n",
       "      <th>1</th>\n",
       "      <td>Subram Builders Bangalore</td>\n",
       "      <td>Subram Jade Gardens</td>\n",
       "      <td>2</td>\n",
       "      <td>BHK</td>\n",
       "      <td>Apartment</td>\n",
       "      <td>Yes</td>\n",
       "      <td>13.045972</td>\n",
       "      <td>77.503059</td>\n",
       "      <td>10600000.0</td>\n",
       "      <td>7500</td>\n",
       "      <td>1416</td>\n",
       "      <td>Under Construction</td>\n",
       "      <td>2 Bathrooms</td>\n",
       "    </tr>\n",
       "    <tr>\n",
       "      <th>2</th>\n",
       "      <td>Prominent Infra</td>\n",
       "      <td>Prominent Chourasia Revanta</td>\n",
       "      <td>2</td>\n",
       "      <td>BHK</td>\n",
       "      <td>Apartment</td>\n",
       "      <td>Yes</td>\n",
       "      <td>13.014944</td>\n",
       "      <td>77.739006</td>\n",
       "      <td>7998000.0</td>\n",
       "      <td>6450</td>\n",
       "      <td>1240</td>\n",
       "      <td>Under Construction</td>\n",
       "      <td>2 Bathrooms</td>\n",
       "    </tr>\n",
       "    <tr>\n",
       "      <th>3</th>\n",
       "      <td>Bhuvesta Constructions</td>\n",
       "      <td>Bhuvesta Lourdes Nest</td>\n",
       "      <td>3</td>\n",
       "      <td>BHK</td>\n",
       "      <td>Apartment</td>\n",
       "      <td>Yes</td>\n",
       "      <td>13.013747</td>\n",
       "      <td>77.702782</td>\n",
       "      <td>11500000.0</td>\n",
       "      <td>6999</td>\n",
       "      <td>1656</td>\n",
       "      <td>Under Construction</td>\n",
       "      <td>2 Bathrooms</td>\n",
       "    </tr>\n",
       "    <tr>\n",
       "      <th>4</th>\n",
       "      <td>Trifecta Projects Pvt Ltd</td>\n",
       "      <td>Trifecta TRIFECTA VANTO PHASE 1</td>\n",
       "      <td>3</td>\n",
       "      <td>BHK</td>\n",
       "      <td>Apartment</td>\n",
       "      <td>Yes</td>\n",
       "      <td>12.881692</td>\n",
       "      <td>77.714157</td>\n",
       "      <td>12400000.0</td>\n",
       "      <td>9282</td>\n",
       "      <td>1340</td>\n",
       "      <td>Under Construction</td>\n",
       "      <td>2 Bathrooms</td>\n",
       "    </tr>\n",
       "  </tbody>\n",
       "</table>\n",
       "</div>"
      ],
      "text/plain": [
       "                Company_name                     Project_name  Rooms   BHK  \\\n",
       "0          VRL Constructions                  VRL Happy Homes      2  BHK    \n",
       "1  Subram Builders Bangalore              Subram Jade Gardens      2  BHK    \n",
       "2            Prominent Infra      Prominent Chourasia Revanta      2  BHK    \n",
       "3     Bhuvesta Constructions            Bhuvesta Lourdes Nest      3  BHK    \n",
       "4  Trifecta Projects Pvt Ltd  Trifecta TRIFECTA VANTO PHASE 1      3  BHK    \n",
       "\n",
       "        Type Rera_Details   latitude  longitude       Price  Price_per_sft  \\\n",
       "0  Apartment          Yes  12.881938  77.788353   4879000.0           4538   \n",
       "1  Apartment          Yes  13.045972  77.503059  10600000.0           7500   \n",
       "2  Apartment          Yes  13.014944  77.739006   7998000.0           6450   \n",
       "3  Apartment          Yes  13.013747  77.702782  11500000.0           6999   \n",
       "4  Apartment          Yes  12.881692  77.714157  12400000.0           9282   \n",
       "\n",
       "   Area_in_sft Construction_Status    Bathrooms  \n",
       "0         1075  Under Construction  2 Bathrooms  \n",
       "1         1416  Under Construction  2 Bathrooms  \n",
       "2         1240  Under Construction  2 Bathrooms  \n",
       "3         1656  Under Construction  2 Bathrooms  \n",
       "4         1340  Under Construction  2 Bathrooms  "
      ]
     },
     "execution_count": 322,
     "metadata": {},
     "output_type": "execute_result"
    }
   ],
   "source": [
    "dataset.head(5)"
   ]
  },
  {
   "cell_type": "code",
   "execution_count": 323,
   "id": "49136670",
   "metadata": {},
   "outputs": [],
   "source": [
    "#lets clean up the Bathrooms Column\n",
    "def clean_string(Bathrooms):\n",
    "    pattern = r\"\\d\"\n",
    "    text = Bathrooms\n",
    "    match = re.search(pattern, text)\n",
    "    if match:\n",
    "        clean_string = match.group()\n",
    "    return clean_string"
   ]
  },
  {
   "cell_type": "code",
   "execution_count": 324,
   "id": "933d09d2",
   "metadata": {},
   "outputs": [],
   "source": [
    "dataset[\"Bathrooms\"] = dataset[\"Bathrooms\"].apply(clean_string)"
   ]
  },
  {
   "cell_type": "code",
   "execution_count": 325,
   "id": "6ebba190",
   "metadata": {},
   "outputs": [],
   "source": [
    "#lets remove the redundant column BHK as its not adding any value to the data of \"Rooms\" already available (TT)\n",
    "dataset = dataset.drop(\"BHK\", axis = \"columns\")"
   ]
  },
  {
   "cell_type": "code",
   "execution_count": 326,
   "id": "a35a9fc8",
   "metadata": {},
   "outputs": [
    {
     "data": {
      "text/html": [
       "<div>\n",
       "<style scoped>\n",
       "    .dataframe tbody tr th:only-of-type {\n",
       "        vertical-align: middle;\n",
       "    }\n",
       "\n",
       "    .dataframe tbody tr th {\n",
       "        vertical-align: top;\n",
       "    }\n",
       "\n",
       "    .dataframe thead th {\n",
       "        text-align: right;\n",
       "    }\n",
       "</style>\n",
       "<table border=\"1\" class=\"dataframe\">\n",
       "  <thead>\n",
       "    <tr style=\"text-align: right;\">\n",
       "      <th></th>\n",
       "      <th>Company_name</th>\n",
       "      <th>Project_name</th>\n",
       "      <th>Rooms</th>\n",
       "      <th>Type</th>\n",
       "      <th>Rera_Details</th>\n",
       "      <th>latitude</th>\n",
       "      <th>longitude</th>\n",
       "      <th>Price</th>\n",
       "      <th>Price_per_sft</th>\n",
       "      <th>Area_in_sft</th>\n",
       "      <th>Construction_Status</th>\n",
       "      <th>Bathrooms</th>\n",
       "    </tr>\n",
       "  </thead>\n",
       "  <tbody>\n",
       "    <tr>\n",
       "      <th>0</th>\n",
       "      <td>VRL Constructions</td>\n",
       "      <td>VRL Happy Homes</td>\n",
       "      <td>2</td>\n",
       "      <td>Apartment</td>\n",
       "      <td>Yes</td>\n",
       "      <td>12.881938</td>\n",
       "      <td>77.788353</td>\n",
       "      <td>4879000.0</td>\n",
       "      <td>4538</td>\n",
       "      <td>1075</td>\n",
       "      <td>Under Construction</td>\n",
       "      <td>2</td>\n",
       "    </tr>\n",
       "    <tr>\n",
       "      <th>1</th>\n",
       "      <td>Subram Builders Bangalore</td>\n",
       "      <td>Subram Jade Gardens</td>\n",
       "      <td>2</td>\n",
       "      <td>Apartment</td>\n",
       "      <td>Yes</td>\n",
       "      <td>13.045972</td>\n",
       "      <td>77.503059</td>\n",
       "      <td>10600000.0</td>\n",
       "      <td>7500</td>\n",
       "      <td>1416</td>\n",
       "      <td>Under Construction</td>\n",
       "      <td>2</td>\n",
       "    </tr>\n",
       "    <tr>\n",
       "      <th>2</th>\n",
       "      <td>Prominent Infra</td>\n",
       "      <td>Prominent Chourasia Revanta</td>\n",
       "      <td>2</td>\n",
       "      <td>Apartment</td>\n",
       "      <td>Yes</td>\n",
       "      <td>13.014944</td>\n",
       "      <td>77.739006</td>\n",
       "      <td>7998000.0</td>\n",
       "      <td>6450</td>\n",
       "      <td>1240</td>\n",
       "      <td>Under Construction</td>\n",
       "      <td>2</td>\n",
       "    </tr>\n",
       "    <tr>\n",
       "      <th>3</th>\n",
       "      <td>Bhuvesta Constructions</td>\n",
       "      <td>Bhuvesta Lourdes Nest</td>\n",
       "      <td>3</td>\n",
       "      <td>Apartment</td>\n",
       "      <td>Yes</td>\n",
       "      <td>13.013747</td>\n",
       "      <td>77.702782</td>\n",
       "      <td>11500000.0</td>\n",
       "      <td>6999</td>\n",
       "      <td>1656</td>\n",
       "      <td>Under Construction</td>\n",
       "      <td>2</td>\n",
       "    </tr>\n",
       "    <tr>\n",
       "      <th>4</th>\n",
       "      <td>Trifecta Projects Pvt Ltd</td>\n",
       "      <td>Trifecta TRIFECTA VANTO PHASE 1</td>\n",
       "      <td>3</td>\n",
       "      <td>Apartment</td>\n",
       "      <td>Yes</td>\n",
       "      <td>12.881692</td>\n",
       "      <td>77.714157</td>\n",
       "      <td>12400000.0</td>\n",
       "      <td>9282</td>\n",
       "      <td>1340</td>\n",
       "      <td>Under Construction</td>\n",
       "      <td>2</td>\n",
       "    </tr>\n",
       "  </tbody>\n",
       "</table>\n",
       "</div>"
      ],
      "text/plain": [
       "                Company_name                     Project_name  Rooms  \\\n",
       "0          VRL Constructions                  VRL Happy Homes      2   \n",
       "1  Subram Builders Bangalore              Subram Jade Gardens      2   \n",
       "2            Prominent Infra      Prominent Chourasia Revanta      2   \n",
       "3     Bhuvesta Constructions            Bhuvesta Lourdes Nest      3   \n",
       "4  Trifecta Projects Pvt Ltd  Trifecta TRIFECTA VANTO PHASE 1      3   \n",
       "\n",
       "        Type Rera_Details   latitude  longitude       Price  Price_per_sft  \\\n",
       "0  Apartment          Yes  12.881938  77.788353   4879000.0           4538   \n",
       "1  Apartment          Yes  13.045972  77.503059  10600000.0           7500   \n",
       "2  Apartment          Yes  13.014944  77.739006   7998000.0           6450   \n",
       "3  Apartment          Yes  13.013747  77.702782  11500000.0           6999   \n",
       "4  Apartment          Yes  12.881692  77.714157  12400000.0           9282   \n",
       "\n",
       "   Area_in_sft Construction_Status Bathrooms  \n",
       "0         1075  Under Construction         2  \n",
       "1         1416  Under Construction         2  \n",
       "2         1240  Under Construction         2  \n",
       "3         1656  Under Construction         2  \n",
       "4         1340  Under Construction         2  "
      ]
     },
     "execution_count": 326,
     "metadata": {},
     "output_type": "execute_result"
    }
   ],
   "source": [
    "dataset.head(5)"
   ]
  },
  {
   "cell_type": "code",
   "execution_count": 327,
   "id": "99f076a1",
   "metadata": {},
   "outputs": [
    {
     "data": {
      "text/html": [
       "<div>\n",
       "<style scoped>\n",
       "    .dataframe tbody tr th:only-of-type {\n",
       "        vertical-align: middle;\n",
       "    }\n",
       "\n",
       "    .dataframe tbody tr th {\n",
       "        vertical-align: top;\n",
       "    }\n",
       "\n",
       "    .dataframe thead th {\n",
       "        text-align: right;\n",
       "    }\n",
       "</style>\n",
       "<table border=\"1\" class=\"dataframe\">\n",
       "  <thead>\n",
       "    <tr style=\"text-align: right;\">\n",
       "      <th></th>\n",
       "      <th>Company_name</th>\n",
       "      <th>Project_name</th>\n",
       "      <th>Rooms</th>\n",
       "      <th>Type</th>\n",
       "      <th>Rera_Details</th>\n",
       "      <th>latitude</th>\n",
       "      <th>longitude</th>\n",
       "      <th>Price</th>\n",
       "      <th>Price_per_sft</th>\n",
       "      <th>Area_in_sft</th>\n",
       "      <th>Construction_Status</th>\n",
       "      <th>Bathrooms</th>\n",
       "    </tr>\n",
       "  </thead>\n",
       "  <tbody>\n",
       "    <tr>\n",
       "      <th>0</th>\n",
       "      <td>VRL CONSTRUCTIONS</td>\n",
       "      <td>VRL HAPPY HOMES</td>\n",
       "      <td>2</td>\n",
       "      <td>Apartment</td>\n",
       "      <td>Yes</td>\n",
       "      <td>12.881938</td>\n",
       "      <td>77.788353</td>\n",
       "      <td>4879000.0</td>\n",
       "      <td>4538</td>\n",
       "      <td>1075</td>\n",
       "      <td>Under Construction</td>\n",
       "      <td>2</td>\n",
       "    </tr>\n",
       "    <tr>\n",
       "      <th>1</th>\n",
       "      <td>SUBRAM BUILDERS BANGALORE</td>\n",
       "      <td>SUBRAM JADE GARDENS</td>\n",
       "      <td>2</td>\n",
       "      <td>Apartment</td>\n",
       "      <td>Yes</td>\n",
       "      <td>13.045972</td>\n",
       "      <td>77.503059</td>\n",
       "      <td>10600000.0</td>\n",
       "      <td>7500</td>\n",
       "      <td>1416</td>\n",
       "      <td>Under Construction</td>\n",
       "      <td>2</td>\n",
       "    </tr>\n",
       "    <tr>\n",
       "      <th>2</th>\n",
       "      <td>PROMINENT INFRA</td>\n",
       "      <td>PROMINENT CHOURASIA REVANTA</td>\n",
       "      <td>2</td>\n",
       "      <td>Apartment</td>\n",
       "      <td>Yes</td>\n",
       "      <td>13.014944</td>\n",
       "      <td>77.739006</td>\n",
       "      <td>7998000.0</td>\n",
       "      <td>6450</td>\n",
       "      <td>1240</td>\n",
       "      <td>Under Construction</td>\n",
       "      <td>2</td>\n",
       "    </tr>\n",
       "    <tr>\n",
       "      <th>3</th>\n",
       "      <td>BHUVESTA CONSTRUCTIONS</td>\n",
       "      <td>BHUVESTA LOURDES NEST</td>\n",
       "      <td>3</td>\n",
       "      <td>Apartment</td>\n",
       "      <td>Yes</td>\n",
       "      <td>13.013747</td>\n",
       "      <td>77.702782</td>\n",
       "      <td>11500000.0</td>\n",
       "      <td>6999</td>\n",
       "      <td>1656</td>\n",
       "      <td>Under Construction</td>\n",
       "      <td>2</td>\n",
       "    </tr>\n",
       "    <tr>\n",
       "      <th>4</th>\n",
       "      <td>TRIFECTA PROJECTS PVT LTD</td>\n",
       "      <td>TRIFECTA TRIFECTA VANTO PHASE 1</td>\n",
       "      <td>3</td>\n",
       "      <td>Apartment</td>\n",
       "      <td>Yes</td>\n",
       "      <td>12.881692</td>\n",
       "      <td>77.714157</td>\n",
       "      <td>12400000.0</td>\n",
       "      <td>9282</td>\n",
       "      <td>1340</td>\n",
       "      <td>Under Construction</td>\n",
       "      <td>2</td>\n",
       "    </tr>\n",
       "  </tbody>\n",
       "</table>\n",
       "</div>"
      ],
      "text/plain": [
       "                Company_name                     Project_name  Rooms  \\\n",
       "0          VRL CONSTRUCTIONS                  VRL HAPPY HOMES      2   \n",
       "1  SUBRAM BUILDERS BANGALORE              SUBRAM JADE GARDENS      2   \n",
       "2            PROMINENT INFRA      PROMINENT CHOURASIA REVANTA      2   \n",
       "3     BHUVESTA CONSTRUCTIONS            BHUVESTA LOURDES NEST      3   \n",
       "4  TRIFECTA PROJECTS PVT LTD  TRIFECTA TRIFECTA VANTO PHASE 1      3   \n",
       "\n",
       "        Type Rera_Details   latitude  longitude       Price  Price_per_sft  \\\n",
       "0  Apartment          Yes  12.881938  77.788353   4879000.0           4538   \n",
       "1  Apartment          Yes  13.045972  77.503059  10600000.0           7500   \n",
       "2  Apartment          Yes  13.014944  77.739006   7998000.0           6450   \n",
       "3  Apartment          Yes  13.013747  77.702782  11500000.0           6999   \n",
       "4  Apartment          Yes  12.881692  77.714157  12400000.0           9282   \n",
       "\n",
       "   Area_in_sft Construction_Status Bathrooms  \n",
       "0         1075  Under Construction         2  \n",
       "1         1416  Under Construction         2  \n",
       "2         1240  Under Construction         2  \n",
       "3         1656  Under Construction         2  \n",
       "4         1340  Under Construction         2  "
      ]
     },
     "execution_count": 327,
     "metadata": {},
     "output_type": "execute_result"
    }
   ],
   "source": [
    "dataset.Company_name = dataset.Company_name.map(lambda p : str(p).upper())\n",
    "dataset.Project_name = dataset.Project_name.map(lambda p : str(p).upper())\n",
    "dataset.head(5)"
   ]
  },
  {
   "cell_type": "code",
   "execution_count": 328,
   "id": "9e5baaa8",
   "metadata": {},
   "outputs": [
    {
     "data": {
      "text/plain": [
       "(39936, 12)"
      ]
     },
     "execution_count": 328,
     "metadata": {},
     "output_type": "execute_result"
    }
   ],
   "source": [
    "dataset.shape"
   ]
  },
  {
   "cell_type": "code",
   "execution_count": 329,
   "id": "c679d249",
   "metadata": {},
   "outputs": [
    {
     "data": {
      "text/html": [
       "<div>\n",
       "<style scoped>\n",
       "    .dataframe tbody tr th:only-of-type {\n",
       "        vertical-align: middle;\n",
       "    }\n",
       "\n",
       "    .dataframe tbody tr th {\n",
       "        vertical-align: top;\n",
       "    }\n",
       "\n",
       "    .dataframe thead th {\n",
       "        text-align: right;\n",
       "    }\n",
       "</style>\n",
       "<table border=\"1\" class=\"dataframe\">\n",
       "  <thead>\n",
       "    <tr style=\"text-align: right;\">\n",
       "      <th></th>\n",
       "      <th>Rooms</th>\n",
       "      <th>Price_per_sft</th>\n",
       "      <th>Area_in_sft</th>\n",
       "    </tr>\n",
       "  </thead>\n",
       "  <tbody>\n",
       "    <tr>\n",
       "      <th>count</th>\n",
       "      <td>39936.000000</td>\n",
       "      <td>39936.000000</td>\n",
       "      <td>39936.000000</td>\n",
       "    </tr>\n",
       "    <tr>\n",
       "      <th>mean</th>\n",
       "      <td>2.741662</td>\n",
       "      <td>7589.230018</td>\n",
       "      <td>1757.453125</td>\n",
       "    </tr>\n",
       "    <tr>\n",
       "      <th>std</th>\n",
       "      <td>0.961871</td>\n",
       "      <td>4649.213759</td>\n",
       "      <td>3303.946537</td>\n",
       "    </tr>\n",
       "    <tr>\n",
       "      <th>min</th>\n",
       "      <td>1.000000</td>\n",
       "      <td>100.000000</td>\n",
       "      <td>108.000000</td>\n",
       "    </tr>\n",
       "    <tr>\n",
       "      <th>25%</th>\n",
       "      <td>2.000000</td>\n",
       "      <td>4650.000000</td>\n",
       "      <td>1200.000000</td>\n",
       "    </tr>\n",
       "    <tr>\n",
       "      <th>50%</th>\n",
       "      <td>3.000000</td>\n",
       "      <td>6785.500000</td>\n",
       "      <td>1400.000000</td>\n",
       "    </tr>\n",
       "    <tr>\n",
       "      <th>75%</th>\n",
       "      <td>3.000000</td>\n",
       "      <td>9660.000000</td>\n",
       "      <td>1886.000000</td>\n",
       "    </tr>\n",
       "    <tr>\n",
       "      <th>max</th>\n",
       "      <td>15.000000</td>\n",
       "      <td>127610.000000</td>\n",
       "      <td>348480.000000</td>\n",
       "    </tr>\n",
       "  </tbody>\n",
       "</table>\n",
       "</div>"
      ],
      "text/plain": [
       "              Rooms  Price_per_sft    Area_in_sft\n",
       "count  39936.000000   39936.000000   39936.000000\n",
       "mean       2.741662    7589.230018    1757.453125\n",
       "std        0.961871    4649.213759    3303.946537\n",
       "min        1.000000     100.000000     108.000000\n",
       "25%        2.000000    4650.000000    1200.000000\n",
       "50%        3.000000    6785.500000    1400.000000\n",
       "75%        3.000000    9660.000000    1886.000000\n",
       "max       15.000000  127610.000000  348480.000000"
      ]
     },
     "execution_count": 329,
     "metadata": {},
     "output_type": "execute_result"
    }
   ],
   "source": [
    "column_to_describe = [\"Rooms\",\"Price_per_sft\",\"Area_in_sft\"]\n",
    "dataset[column_to_describe].describe()"
   ]
  },
  {
   "cell_type": "code",
   "execution_count": 330,
   "id": "46718f3b",
   "metadata": {},
   "outputs": [
    {
     "data": {
      "text/plain": [
       "Company_name            object\n",
       "Project_name            object\n",
       "Rooms                    int64\n",
       "Type                    object\n",
       "Rera_Details            object\n",
       "latitude               float64\n",
       "longitude              float64\n",
       "Price                  float64\n",
       "Price_per_sft            int64\n",
       "Area_in_sft              int64\n",
       "Construction_Status     object\n",
       "Bathrooms               object\n",
       "dtype: object"
      ]
     },
     "execution_count": 330,
     "metadata": {},
     "output_type": "execute_result"
    }
   ],
   "source": [
    "dataset.dtypes"
   ]
  },
  {
   "cell_type": "code",
   "execution_count": 331,
   "id": "74dcf721",
   "metadata": {},
   "outputs": [],
   "source": [
    "#need to change bathrooms from object type to int type\n",
    "dataset[\"Bathrooms\"] = dataset[\"Bathrooms\"].astype(int)"
   ]
  },
  {
   "cell_type": "code",
   "execution_count": 332,
   "id": "0404aaed",
   "metadata": {},
   "outputs": [
    {
     "data": {
      "text/plain": [
       "Company_name            object\n",
       "Project_name            object\n",
       "Rooms                    int64\n",
       "Type                    object\n",
       "Rera_Details            object\n",
       "latitude               float64\n",
       "longitude              float64\n",
       "Price                  float64\n",
       "Price_per_sft            int64\n",
       "Area_in_sft              int64\n",
       "Construction_Status     object\n",
       "Bathrooms                int32\n",
       "dtype: object"
      ]
     },
     "execution_count": 332,
     "metadata": {},
     "output_type": "execute_result"
    }
   ],
   "source": [
    "dataset.dtypes"
   ]
  },
  {
   "cell_type": "code",
   "execution_count": 333,
   "id": "c5cd5158",
   "metadata": {},
   "outputs": [],
   "source": [
    "from sklearn.model_selection import train_test_split\n",
    "y=dataset.Price"
   ]
  },
  {
   "cell_type": "code",
   "execution_count": 334,
   "id": "b5e235fe",
   "metadata": {
    "scrolled": true
   },
   "outputs": [
    {
     "data": {
      "text/plain": [
       "Index(['Company_name', 'Project_name', 'Rooms', 'Type', 'Rera_Details',\n",
       "       'latitude', 'longitude', 'Price', 'Price_per_sft', 'Area_in_sft',\n",
       "       'Construction_Status', 'Bathrooms'],\n",
       "      dtype='object')"
      ]
     },
     "execution_count": 334,
     "metadata": {},
     "output_type": "execute_result"
    }
   ],
   "source": [
    "dataset.columns"
   ]
  },
  {
   "cell_type": "code",
   "execution_count": 335,
   "id": "f4270de3",
   "metadata": {},
   "outputs": [],
   "source": [
    "dataset_impute = dataset.copy()"
   ]
  },
  {
   "cell_type": "code",
   "execution_count": 336,
   "id": "d5f4e9e9",
   "metadata": {},
   "outputs": [],
   "source": [
    "data_features = ['Rooms','latitude', 'longitude', 'Price_per_sft', 'Area_in_sft', 'Bathrooms']\n",
    "X=dataset_impute[data_features]\n",
    "Train_X, Val_X, Train_y, Val_y = train_test_split(X,y, random_state=0)"
   ]
  },
  {
   "cell_type": "code",
   "execution_count": 337,
   "id": "7c853b7e",
   "metadata": {
    "scrolled": true
   },
   "outputs": [
    {
     "data": {
      "text/html": [
       "<div>\n",
       "<style scoped>\n",
       "    .dataframe tbody tr th:only-of-type {\n",
       "        vertical-align: middle;\n",
       "    }\n",
       "\n",
       "    .dataframe tbody tr th {\n",
       "        vertical-align: top;\n",
       "    }\n",
       "\n",
       "    .dataframe thead th {\n",
       "        text-align: right;\n",
       "    }\n",
       "</style>\n",
       "<table border=\"1\" class=\"dataframe\">\n",
       "  <thead>\n",
       "    <tr style=\"text-align: right;\">\n",
       "      <th></th>\n",
       "      <th>Rooms</th>\n",
       "      <th>latitude</th>\n",
       "      <th>longitude</th>\n",
       "      <th>Price_per_sft</th>\n",
       "      <th>Area_in_sft</th>\n",
       "      <th>Bathrooms</th>\n",
       "    </tr>\n",
       "  </thead>\n",
       "  <tbody>\n",
       "    <tr>\n",
       "      <th>count</th>\n",
       "      <td>39936.000000</td>\n",
       "      <td>39936.000000</td>\n",
       "      <td>39936.000000</td>\n",
       "      <td>39936.000000</td>\n",
       "      <td>39936.000000</td>\n",
       "      <td>39936.000000</td>\n",
       "    </tr>\n",
       "    <tr>\n",
       "      <th>mean</th>\n",
       "      <td>2.741662</td>\n",
       "      <td>12.976484</td>\n",
       "      <td>77.659167</td>\n",
       "      <td>7589.230018</td>\n",
       "      <td>1757.453125</td>\n",
       "      <td>2.618990</td>\n",
       "    </tr>\n",
       "    <tr>\n",
       "      <th>std</th>\n",
       "      <td>0.961871</td>\n",
       "      <td>0.438982</td>\n",
       "      <td>0.306317</td>\n",
       "      <td>4649.213759</td>\n",
       "      <td>3303.946537</td>\n",
       "      <td>1.025096</td>\n",
       "    </tr>\n",
       "    <tr>\n",
       "      <th>min</th>\n",
       "      <td>1.000000</td>\n",
       "      <td>11.048909</td>\n",
       "      <td>72.471161</td>\n",
       "      <td>100.000000</td>\n",
       "      <td>108.000000</td>\n",
       "      <td>1.000000</td>\n",
       "    </tr>\n",
       "    <tr>\n",
       "      <th>25%</th>\n",
       "      <td>2.000000</td>\n",
       "      <td>12.868199</td>\n",
       "      <td>77.595459</td>\n",
       "      <td>4650.000000</td>\n",
       "      <td>1200.000000</td>\n",
       "      <td>2.000000</td>\n",
       "    </tr>\n",
       "    <tr>\n",
       "      <th>50%</th>\n",
       "      <td>3.000000</td>\n",
       "      <td>12.964378</td>\n",
       "      <td>77.661621</td>\n",
       "      <td>6785.500000</td>\n",
       "      <td>1400.000000</td>\n",
       "      <td>2.000000</td>\n",
       "    </tr>\n",
       "    <tr>\n",
       "      <th>75%</th>\n",
       "      <td>3.000000</td>\n",
       "      <td>13.050116</td>\n",
       "      <td>77.712639</td>\n",
       "      <td>9660.000000</td>\n",
       "      <td>1886.000000</td>\n",
       "      <td>3.000000</td>\n",
       "    </tr>\n",
       "    <tr>\n",
       "      <th>max</th>\n",
       "      <td>15.000000</td>\n",
       "      <td>30.378063</td>\n",
       "      <td>88.463371</td>\n",
       "      <td>127610.000000</td>\n",
       "      <td>348480.000000</td>\n",
       "      <td>9.000000</td>\n",
       "    </tr>\n",
       "  </tbody>\n",
       "</table>\n",
       "</div>"
      ],
      "text/plain": [
       "              Rooms      latitude     longitude  Price_per_sft    Area_in_sft  \\\n",
       "count  39936.000000  39936.000000  39936.000000   39936.000000   39936.000000   \n",
       "mean       2.741662     12.976484     77.659167    7589.230018    1757.453125   \n",
       "std        0.961871      0.438982      0.306317    4649.213759    3303.946537   \n",
       "min        1.000000     11.048909     72.471161     100.000000     108.000000   \n",
       "25%        2.000000     12.868199     77.595459    4650.000000    1200.000000   \n",
       "50%        3.000000     12.964378     77.661621    6785.500000    1400.000000   \n",
       "75%        3.000000     13.050116     77.712639    9660.000000    1886.000000   \n",
       "max       15.000000     30.378063     88.463371  127610.000000  348480.000000   \n",
       "\n",
       "          Bathrooms  \n",
       "count  39936.000000  \n",
       "mean       2.618990  \n",
       "std        1.025096  \n",
       "min        1.000000  \n",
       "25%        2.000000  \n",
       "50%        2.000000  \n",
       "75%        3.000000  \n",
       "max        9.000000  "
      ]
     },
     "execution_count": 337,
     "metadata": {},
     "output_type": "execute_result"
    }
   ],
   "source": [
    "X.describe()"
   ]
  },
  {
   "cell_type": "code",
   "execution_count": 338,
   "id": "42804920",
   "metadata": {},
   "outputs": [],
   "source": [
    "from sklearn.ensemble import RandomForestRegressor\n",
    "from sklearn.metrics import mean_absolute_error"
   ]
  },
  {
   "cell_type": "code",
   "execution_count": 339,
   "id": "bf9e1d16",
   "metadata": {},
   "outputs": [],
   "source": [
    "def get_mae_Forest(max_leaf_nodes, Train_X, Val_X, Train_y, Val_y):\n",
    "    data_model=RandomForestRegressor(max_leaf_nodes=max_leaf_nodes, random_state=1)\n",
    "    data_model.fit(Train_X, Train_y)\n",
    "    Predicted=data_model.predict(Val_X)\n",
    "    mae=mean_absolute_error(Val_y, Predicted)\n",
    "    return mae"
   ]
  },
  {
   "cell_type": "code",
   "execution_count": 340,
   "id": "9dab4626",
   "metadata": {
    "scrolled": false
   },
   "outputs": [
    {
     "name": "stdout",
     "output_type": "stream",
     "text": [
      "For Max leaf node of 5000 Mean Absolute Error is 262909.7145668445\n",
      "For Max leaf node of 10000 Mean Absolute Error is 257650.6617999564\n",
      "For Max leaf node of 12000 Mean Absolute Error is 257641.11900283516\n",
      "For Max leaf node of 15000 Mean Absolute Error is 257641.11900283516\n"
     ]
    }
   ],
   "source": [
    "for max_leaf_nodes in [5000,10000,12000,15000]:\n",
    "    refined_mae=get_mae_Forest(max_leaf_nodes, Train_X, Val_X, Train_y, Val_y)\n",
    "    print(f\"For Max leaf node of {max_leaf_nodes} Mean Absolute Error is {refined_mae}\")"
   ]
  },
  {
   "cell_type": "code",
   "execution_count": 342,
   "id": "7059976d",
   "metadata": {
    "scrolled": false
   },
   "outputs": [
    {
     "data": {
      "image/png": "[encoded data removed]",
      "text/plain": [
       "<Figure size 1000x600 with 1 Axes>"
      ]
     },
     "metadata": {},
     "output_type": "display_data"
    }
   ],
   "source": [
    "data_model=RandomForestRegressor(max_leaf_nodes=15000, random_state=1)\n",
    "data_model.fit(Train_X, Train_y)\n",
    "Predicted=data_model.predict(Val_X)\n",
    "df_results = pd.DataFrame({'Actual': Val_y, 'Predicted': Predicted})\n",
    "df_results.to_csv(r'C:\\Users\\lavan\\Desktop\\Portfolio Projects\\House Pricing Prediction\\prediction_1.csv', index=False)\n",
    "plt.figure(figsize=(10, 6))\n",
    "sns.scatterplot(x=Val_y, y=Predicted)\n",
    "max_val = max(max(Val_y), max(Predicted))\n",
    "min_val = min(min(Val_y), min(Predicted))\n",
    "plt.plot([min_val, max_val], [min_val, max_val], 'r--', lw=2)\n",
    "plt.xlabel('Actual Prices')\n",
    "plt.ylabel('Predicted Prices')\n",
    "plt.title('Actual vs Predicted Prices')\n",
    "plt.show()"
   ]
  },
  {
   "cell_type": "code",
   "execution_count": 285,
   "id": "bb76490d",
   "metadata": {},
   "outputs": [],
   "source": [
    "from sklearn.impute import SimpleImputer"
   ]
  },
  {
   "cell_type": "code",
   "execution_count": 286,
   "id": "56268c7c",
   "metadata": {},
   "outputs": [],
   "source": [
    "my_imputer=SimpleImputer()\n",
    "imputed_Train_X = pd.DataFrame(my_imputer.fit_transform(Train_X), columns=Train_X.columns)\n",
    "imputed_Val_X = pd.DataFrame(my_imputer.transform(Val_X), columns=Val_X.columns)"
   ]
  },
  {
   "cell_type": "code",
   "execution_count": 287,
   "id": "91ed35af",
   "metadata": {
    "scrolled": true
   },
   "outputs": [
    {
     "name": "stdout",
     "output_type": "stream",
     "text": [
      "For Max leaf node of 5000 Mean Absolute Error is 262909.7145668445\n",
      "For Max leaf node of 10000 Mean Absolute Error is 257650.6617999564\n",
      "For Max leaf node of 12000 Mean Absolute Error is 257641.11900283516\n",
      "For Max leaf node of 15000 Mean Absolute Error is 257641.11900283516\n"
     ]
    }
   ],
   "source": [
    "for max_leaf_nodes in [5000,10000,12000,15000]:\n",
    "    refined_mae=get_mae_Forest(max_leaf_nodes, imputed_Train_X, imputed_Val_X, Train_y, Val_y)\n",
    "    print(f\"For Max leaf node of {max_leaf_nodes} Mean Absolute Error is {refined_mae}\")"
   ]
  },
  {
   "cell_type": "code",
   "execution_count": 288,
   "id": "24be0eb0",
   "metadata": {},
   "outputs": [
    {
     "data": {
      "image/png": "[encoded data removed]",
      "text/plain": [
       "<Figure size 1000x600 with 1 Axes>"
      ]
     },
     "metadata": {},
     "output_type": "display_data"
    }
   ],
   "source": [
    "data_model=RandomForestRegressor(max_leaf_nodes=15000, random_state=1)\n",
    "data_model.fit(imputed_Train_X, Train_y)\n",
    "Predicted=data_model.predict(imputed_Val_X)\n",
    "plt.figure(figsize=(10, 6))\n",
    "sns.scatterplot(x=Val_y, y=Predicted)\n",
    "max_val = max(max(Val_y), max(Predicted))\n",
    "min_val = min(min(Val_y), min(Predicted))\n",
    "plt.plot([min_val, max_val], [min_val, max_val], 'r--', lw=2)\n",
    "plt.xlabel('Actual Prices')\n",
    "plt.ylabel('Predicted Prices')\n",
    "plt.title('Actual vs Predicted Prices')\n",
    "plt.show()"
   ]
  },
  {
   "cell_type": "code",
   "execution_count": 289,
   "id": "98e5792b",
   "metadata": {},
   "outputs": [
    {
     "data": {
      "text/plain": [
       "Index(['Company_name', 'Project_name', 'Rooms', 'Type', 'Rera_Details',\n",
       "       'latitude', 'longitude', 'Price', 'Price_per_sft', 'Area_in_sft',\n",
       "       'Construction_Status', 'Bathrooms'],\n",
       "      dtype='object')"
      ]
     },
     "execution_count": 289,
     "metadata": {},
     "output_type": "execute_result"
    }
   ],
   "source": [
    "dataset.columns"
   ]
  },
  {
   "cell_type": "code",
   "execution_count": 290,
   "id": "452e2b25",
   "metadata": {},
   "outputs": [],
   "source": [
    "dataset_drop_cat = dataset.copy()"
   ]
  },
  {
   "cell_type": "code",
   "execution_count": 291,
   "id": "d4d85e1a",
   "metadata": {},
   "outputs": [
    {
     "data": {
      "text/plain": [
       "(9984,)"
      ]
     },
     "execution_count": 291,
     "metadata": {},
     "output_type": "execute_result"
    }
   ],
   "source": [
    "data_features = ['Company_name', 'Project_name', 'Rooms', 'Type', 'Rera_Details',\n",
    "       'latitude', 'longitude', 'Price', 'Price_per_sft', 'Area_in_sft',\n",
    "       'Construction_Status', 'Bathrooms']\n",
    "X=dataset_drop_cat[data_features]\n",
    "y=dataset_drop_cat.Price\n",
    "Train_X, Val_X, Train_y, Val_y = train_test_split(X,y, random_state=0)\n",
    "Train_X.head()\n",
    "Val_X.head()\n",
    "Val_y.shape"
   ]
  },
  {
   "cell_type": "code",
   "execution_count": 292,
   "id": "24a52d8c",
   "metadata": {},
   "outputs": [
    {
     "name": "stdout",
     "output_type": "stream",
     "text": [
      "[]\n"
     ]
    }
   ],
   "source": [
    "cols_with_missing = [col for col in X.columns if X[col].isnull().any()]\n",
    "print(cols_with_missing)\n",
    "Train_X.drop(cols_with_missing, axis=1, inplace=True)\n",
    "Val_X.drop(cols_with_missing, axis=1, inplace=True)"
   ]
  },
  {
   "cell_type": "code",
   "execution_count": 293,
   "id": "d85adadb",
   "metadata": {},
   "outputs": [
    {
     "name": "stdout",
     "output_type": "stream",
     "text": [
      "['Type', 'Rera_Details', 'Construction_Status']\n",
      "['Rooms', 'latitude', 'longitude', 'Price', 'Price_per_sft', 'Area_in_sft', 'Bathrooms']\n"
     ]
    }
   ],
   "source": [
    "low_cardinality_cols = [cname for cname in Train_X.columns if Train_X[cname].nunique() < 10 and Train_X[cname].dtype == \"object\"]\n",
    "numerical_cols = [cname for cname in Train_X.columns if Train_X[cname].dtype in [\"int64\",\"float64\",\"int32\"]]\n",
    "print(low_cardinality_cols)\n",
    "print(numerical_cols)"
   ]
  },
  {
   "cell_type": "code",
   "execution_count": 294,
   "id": "0c6572cc",
   "metadata": {},
   "outputs": [
    {
     "name": "stdout",
     "output_type": "stream",
     "text": [
      "['Rooms', 'latitude', 'longitude', 'Price', 'Price_per_sft', 'Area_in_sft', 'Bathrooms', 'Type', 'Rera_Details', 'Construction_Status']\n"
     ]
    }
   ],
   "source": [
    "final_cols = numerical_cols+low_cardinality_cols\n",
    "print(final_cols)"
   ]
  },
  {
   "cell_type": "code",
   "execution_count": 295,
   "id": "7c3e7902",
   "metadata": {},
   "outputs": [
    {
     "data": {
      "text/html": [
       "<div>\n",
       "<style scoped>\n",
       "    .dataframe tbody tr th:only-of-type {\n",
       "        vertical-align: middle;\n",
       "    }\n",
       "\n",
       "    .dataframe tbody tr th {\n",
       "        vertical-align: top;\n",
       "    }\n",
       "\n",
       "    .dataframe thead th {\n",
       "        text-align: right;\n",
       "    }\n",
       "</style>\n",
       "<table border=\"1\" class=\"dataframe\">\n",
       "  <thead>\n",
       "    <tr style=\"text-align: right;\">\n",
       "      <th></th>\n",
       "      <th>Rooms</th>\n",
       "      <th>latitude</th>\n",
       "      <th>longitude</th>\n",
       "      <th>Price</th>\n",
       "      <th>Price_per_sft</th>\n",
       "      <th>Area_in_sft</th>\n",
       "      <th>Bathrooms</th>\n",
       "      <th>Type</th>\n",
       "      <th>Rera_Details</th>\n",
       "      <th>Construction_Status</th>\n",
       "    </tr>\n",
       "  </thead>\n",
       "  <tbody>\n",
       "    <tr>\n",
       "      <th>28645</th>\n",
       "      <td>2</td>\n",
       "      <td>12.831991</td>\n",
       "      <td>77.660934</td>\n",
       "      <td>6150000.0</td>\n",
       "      <td>6000</td>\n",
       "      <td>1025</td>\n",
       "      <td>5</td>\n",
       "      <td>Apartment</td>\n",
       "      <td>Yes</td>\n",
       "      <td>Under Construction</td>\n",
       "    </tr>\n",
       "    <tr>\n",
       "      <th>2317</th>\n",
       "      <td>2</td>\n",
       "      <td>13.040371</td>\n",
       "      <td>77.652031</td>\n",
       "      <td>7068000.0</td>\n",
       "      <td>6194</td>\n",
       "      <td>1141</td>\n",
       "      <td>2</td>\n",
       "      <td>Apartment</td>\n",
       "      <td>No</td>\n",
       "      <td>Ready to move</td>\n",
       "    </tr>\n",
       "    <tr>\n",
       "      <th>37833</th>\n",
       "      <td>2</td>\n",
       "      <td>12.786186</td>\n",
       "      <td>77.702026</td>\n",
       "      <td>3500000.0</td>\n",
       "      <td>4375</td>\n",
       "      <td>800</td>\n",
       "      <td>2</td>\n",
       "      <td>Apartment</td>\n",
       "      <td>Yes</td>\n",
       "      <td>Under Construction</td>\n",
       "    </tr>\n",
       "    <tr>\n",
       "      <th>17020</th>\n",
       "      <td>1</td>\n",
       "      <td>12.933178</td>\n",
       "      <td>77.744591</td>\n",
       "      <td>7856000.0</td>\n",
       "      <td>9833</td>\n",
       "      <td>799</td>\n",
       "      <td>1</td>\n",
       "      <td>Apartment</td>\n",
       "      <td>Yes</td>\n",
       "      <td>Under Construction</td>\n",
       "    </tr>\n",
       "    <tr>\n",
       "      <th>1635</th>\n",
       "      <td>3</td>\n",
       "      <td>12.985364</td>\n",
       "      <td>77.550354</td>\n",
       "      <td>17000000.0</td>\n",
       "      <td>11500</td>\n",
       "      <td>1480</td>\n",
       "      <td>3</td>\n",
       "      <td>Apartment</td>\n",
       "      <td>No</td>\n",
       "      <td>Under Construction</td>\n",
       "    </tr>\n",
       "  </tbody>\n",
       "</table>\n",
       "</div>"
      ],
      "text/plain": [
       "       Rooms   latitude  longitude       Price  Price_per_sft  Area_in_sft  \\\n",
       "28645      2  12.831991  77.660934   6150000.0           6000         1025   \n",
       "2317       2  13.040371  77.652031   7068000.0           6194         1141   \n",
       "37833      2  12.786186  77.702026   3500000.0           4375          800   \n",
       "17020      1  12.933178  77.744591   7856000.0           9833          799   \n",
       "1635       3  12.985364  77.550354  17000000.0          11500         1480   \n",
       "\n",
       "       Bathrooms       Type Rera_Details Construction_Status  \n",
       "28645          5  Apartment          Yes  Under Construction  \n",
       "2317           2  Apartment           No       Ready to move  \n",
       "37833          2  Apartment          Yes  Under Construction  \n",
       "17020          1  Apartment          Yes  Under Construction  \n",
       "1635           3  Apartment           No  Under Construction  "
      ]
     },
     "execution_count": 295,
     "metadata": {},
     "output_type": "execute_result"
    }
   ],
   "source": [
    "def_Train_X=Train_X[final_cols].copy()\n",
    "def_Train_X.head()"
   ]
  },
  {
   "cell_type": "code",
   "execution_count": 296,
   "id": "0515a8f9",
   "metadata": {},
   "outputs": [
    {
     "data": {
      "text/html": [
       "<div>\n",
       "<style scoped>\n",
       "    .dataframe tbody tr th:only-of-type {\n",
       "        vertical-align: middle;\n",
       "    }\n",
       "\n",
       "    .dataframe tbody tr th {\n",
       "        vertical-align: top;\n",
       "    }\n",
       "\n",
       "    .dataframe thead th {\n",
       "        text-align: right;\n",
       "    }\n",
       "</style>\n",
       "<table border=\"1\" class=\"dataframe\">\n",
       "  <thead>\n",
       "    <tr style=\"text-align: right;\">\n",
       "      <th></th>\n",
       "      <th>Rooms</th>\n",
       "      <th>latitude</th>\n",
       "      <th>longitude</th>\n",
       "      <th>Price</th>\n",
       "      <th>Price_per_sft</th>\n",
       "      <th>Area_in_sft</th>\n",
       "      <th>Bathrooms</th>\n",
       "      <th>Type</th>\n",
       "      <th>Rera_Details</th>\n",
       "      <th>Construction_Status</th>\n",
       "    </tr>\n",
       "  </thead>\n",
       "  <tbody>\n",
       "    <tr>\n",
       "      <th>23628</th>\n",
       "      <td>3</td>\n",
       "      <td>13.062951</td>\n",
       "      <td>77.660545</td>\n",
       "      <td>21400000.0</td>\n",
       "      <td>11931</td>\n",
       "      <td>1794</td>\n",
       "      <td>2</td>\n",
       "      <td>Apartment</td>\n",
       "      <td>No</td>\n",
       "      <td>Ready to move</td>\n",
       "    </tr>\n",
       "    <tr>\n",
       "      <th>37281</th>\n",
       "      <td>3</td>\n",
       "      <td>12.775427</td>\n",
       "      <td>77.703316</td>\n",
       "      <td>4798000.0</td>\n",
       "      <td>3998</td>\n",
       "      <td>1200</td>\n",
       "      <td>2</td>\n",
       "      <td>Residential Plot</td>\n",
       "      <td>No</td>\n",
       "      <td>New</td>\n",
       "    </tr>\n",
       "    <tr>\n",
       "      <th>13400</th>\n",
       "      <td>3</td>\n",
       "      <td>13.146082</td>\n",
       "      <td>77.638992</td>\n",
       "      <td>10200000.0</td>\n",
       "      <td>6840</td>\n",
       "      <td>1500</td>\n",
       "      <td>3</td>\n",
       "      <td>Apartment</td>\n",
       "      <td>Yes</td>\n",
       "      <td>Under Construction</td>\n",
       "    </tr>\n",
       "    <tr>\n",
       "      <th>24989</th>\n",
       "      <td>2</td>\n",
       "      <td>12.940064</td>\n",
       "      <td>77.733551</td>\n",
       "      <td>8260000.0</td>\n",
       "      <td>7000</td>\n",
       "      <td>1180</td>\n",
       "      <td>2</td>\n",
       "      <td>Apartment</td>\n",
       "      <td>No</td>\n",
       "      <td>Ready to move</td>\n",
       "    </tr>\n",
       "    <tr>\n",
       "      <th>16721</th>\n",
       "      <td>3</td>\n",
       "      <td>13.016540</td>\n",
       "      <td>77.728142</td>\n",
       "      <td>10000000.0</td>\n",
       "      <td>5040</td>\n",
       "      <td>2000</td>\n",
       "      <td>3</td>\n",
       "      <td>Apartment</td>\n",
       "      <td>Yes</td>\n",
       "      <td>Under Construction</td>\n",
       "    </tr>\n",
       "  </tbody>\n",
       "</table>\n",
       "</div>"
      ],
      "text/plain": [
       "       Rooms   latitude  longitude       Price  Price_per_sft  Area_in_sft  \\\n",
       "23628      3  13.062951  77.660545  21400000.0          11931         1794   \n",
       "37281      3  12.775427  77.703316   4798000.0           3998         1200   \n",
       "13400      3  13.146082  77.638992  10200000.0           6840         1500   \n",
       "24989      2  12.940064  77.733551   8260000.0           7000         1180   \n",
       "16721      3  13.016540  77.728142  10000000.0           5040         2000   \n",
       "\n",
       "       Bathrooms              Type Rera_Details Construction_Status  \n",
       "23628          2         Apartment           No       Ready to move  \n",
       "37281          2  Residential Plot           No                 New  \n",
       "13400          3         Apartment          Yes  Under Construction  \n",
       "24989          2         Apartment           No       Ready to move  \n",
       "16721          3         Apartment          Yes  Under Construction  "
      ]
     },
     "execution_count": 296,
     "metadata": {},
     "output_type": "execute_result"
    }
   ],
   "source": [
    "def_Val_X=Val_X[final_cols].copy()\n",
    "def_Val_X.head()"
   ]
  },
  {
   "cell_type": "code",
   "execution_count": 297,
   "id": "876157a2",
   "metadata": {},
   "outputs": [
    {
     "data": {
      "text/plain": [
       "Rooms                    int64\n",
       "latitude               float64\n",
       "longitude              float64\n",
       "Price                  float64\n",
       "Price_per_sft            int64\n",
       "Area_in_sft              int64\n",
       "Bathrooms                int32\n",
       "Type                    object\n",
       "Rera_Details            object\n",
       "Construction_Status     object\n",
       "dtype: object"
      ]
     },
     "execution_count": 297,
     "metadata": {},
     "output_type": "execute_result"
    }
   ],
   "source": [
    "def_Train_X.dtypes"
   ]
  },
  {
   "cell_type": "code",
   "execution_count": 298,
   "id": "d1b88963",
   "metadata": {},
   "outputs": [
    {
     "name": "stdout",
     "output_type": "stream",
     "text": [
      "['Type', 'Rera_Details', 'Construction_Status']\n"
     ]
    }
   ],
   "source": [
    "s = (def_Train_X.dtypes == 'object')\n",
    "object_cols = list(s[s].index)\n",
    "print(object_cols)"
   ]
  },
  {
   "cell_type": "code",
   "execution_count": 299,
   "id": "3d4314f4",
   "metadata": {},
   "outputs": [
    {
     "name": "stdout",
     "output_type": "stream",
     "text": [
      "(29952, 7)\n",
      "(29952,)\n",
      "(9984, 7)\n",
      "(9984,)\n"
     ]
    }
   ],
   "source": [
    "drop_Train_X = def_Train_X.select_dtypes(exclude=\"object\")\n",
    "drop_Val_X = def_Val_X.select_dtypes(exclude=\"object\")\n",
    "print(drop_Train_X.shape)\n",
    "print(Train_y.shape)\n",
    "print(drop_Val_X.shape)\n",
    "print(Val_y.shape)"
   ]
  },
  {
   "cell_type": "code",
   "execution_count": 300,
   "id": "dfecf397",
   "metadata": {},
   "outputs": [
    {
     "name": "stdout",
     "output_type": "stream",
     "text": [
      "For Max leaf node of 5000 Mean Absolute Error is 47173.592748397445\n",
      "For Max leaf node of 10000 Mean Absolute Error is 47173.592748397445\n",
      "For Max leaf node of 12000 Mean Absolute Error is 47173.592748397445\n",
      "For Max leaf node of 15000 Mean Absolute Error is 47173.592748397445\n"
     ]
    }
   ],
   "source": [
    "for max_leaf_nodes in [5000,10000,12000,15000]:\n",
    "    refined_mae=get_mae_Forest(max_leaf_nodes, drop_Train_X, drop_Val_X, Train_y, Val_y)\n",
    "    print(f\"For Max leaf node of {max_leaf_nodes} Mean Absolute Error is {refined_mae}\")"
   ]
  },
  {
   "cell_type": "code",
   "execution_count": 301,
   "id": "6f65487b",
   "metadata": {
    "scrolled": true
   },
   "outputs": [
    {
     "data": {
      "text/html": [
       "<div>\n",
       "<style scoped>\n",
       "    .dataframe tbody tr th:only-of-type {\n",
       "        vertical-align: middle;\n",
       "    }\n",
       "\n",
       "    .dataframe tbody tr th {\n",
       "        vertical-align: top;\n",
       "    }\n",
       "\n",
       "    .dataframe thead th {\n",
       "        text-align: right;\n",
       "    }\n",
       "</style>\n",
       "<table border=\"1\" class=\"dataframe\">\n",
       "  <thead>\n",
       "    <tr style=\"text-align: right;\">\n",
       "      <th></th>\n",
       "      <th>Rooms</th>\n",
       "      <th>latitude</th>\n",
       "      <th>longitude</th>\n",
       "      <th>Price</th>\n",
       "      <th>Price_per_sft</th>\n",
       "      <th>Area_in_sft</th>\n",
       "      <th>Bathrooms</th>\n",
       "      <th>Type</th>\n",
       "      <th>Rera_Details</th>\n",
       "      <th>Construction_Status</th>\n",
       "    </tr>\n",
       "  </thead>\n",
       "  <tbody>\n",
       "    <tr>\n",
       "      <th>28645</th>\n",
       "      <td>2</td>\n",
       "      <td>12.831991</td>\n",
       "      <td>77.660934</td>\n",
       "      <td>6150000.0</td>\n",
       "      <td>6000</td>\n",
       "      <td>1025</td>\n",
       "      <td>5</td>\n",
       "      <td>0.0</td>\n",
       "      <td>1.0</td>\n",
       "      <td>3.0</td>\n",
       "    </tr>\n",
       "    <tr>\n",
       "      <th>2317</th>\n",
       "      <td>2</td>\n",
       "      <td>13.040371</td>\n",
       "      <td>77.652031</td>\n",
       "      <td>7068000.0</td>\n",
       "      <td>6194</td>\n",
       "      <td>1141</td>\n",
       "      <td>2</td>\n",
       "      <td>0.0</td>\n",
       "      <td>0.0</td>\n",
       "      <td>1.0</td>\n",
       "    </tr>\n",
       "    <tr>\n",
       "      <th>37833</th>\n",
       "      <td>2</td>\n",
       "      <td>12.786186</td>\n",
       "      <td>77.702026</td>\n",
       "      <td>3500000.0</td>\n",
       "      <td>4375</td>\n",
       "      <td>800</td>\n",
       "      <td>2</td>\n",
       "      <td>0.0</td>\n",
       "      <td>1.0</td>\n",
       "      <td>3.0</td>\n",
       "    </tr>\n",
       "    <tr>\n",
       "      <th>17020</th>\n",
       "      <td>1</td>\n",
       "      <td>12.933178</td>\n",
       "      <td>77.744591</td>\n",
       "      <td>7856000.0</td>\n",
       "      <td>9833</td>\n",
       "      <td>799</td>\n",
       "      <td>1</td>\n",
       "      <td>0.0</td>\n",
       "      <td>1.0</td>\n",
       "      <td>3.0</td>\n",
       "    </tr>\n",
       "    <tr>\n",
       "      <th>1635</th>\n",
       "      <td>3</td>\n",
       "      <td>12.985364</td>\n",
       "      <td>77.550354</td>\n",
       "      <td>17000000.0</td>\n",
       "      <td>11500</td>\n",
       "      <td>1480</td>\n",
       "      <td>3</td>\n",
       "      <td>0.0</td>\n",
       "      <td>0.0</td>\n",
       "      <td>3.0</td>\n",
       "    </tr>\n",
       "  </tbody>\n",
       "</table>\n",
       "</div>"
      ],
      "text/plain": [
       "       Rooms   latitude  longitude       Price  Price_per_sft  Area_in_sft  \\\n",
       "28645      2  12.831991  77.660934   6150000.0           6000         1025   \n",
       "2317       2  13.040371  77.652031   7068000.0           6194         1141   \n",
       "37833      2  12.786186  77.702026   3500000.0           4375          800   \n",
       "17020      1  12.933178  77.744591   7856000.0           9833          799   \n",
       "1635       3  12.985364  77.550354  17000000.0          11500         1480   \n",
       "\n",
       "       Bathrooms  Type  Rera_Details  Construction_Status  \n",
       "28645          5   0.0           1.0                  3.0  \n",
       "2317           2   0.0           0.0                  1.0  \n",
       "37833          2   0.0           1.0                  3.0  \n",
       "17020          1   0.0           1.0                  3.0  \n",
       "1635           3   0.0           0.0                  3.0  "
      ]
     },
     "execution_count": 301,
     "metadata": {},
     "output_type": "execute_result"
    }
   ],
   "source": [
    "from sklearn.preprocessing import OrdinalEncoder\n",
    "lable_Train_X = def_Train_X.copy()\n",
    "lable_Val_X = def_Val_X.copy()\n",
    "ordinal_encoder=OrdinalEncoder()\n",
    "lable_Train_X[object_cols]=ordinal_encoder.fit_transform(Train_X[object_cols])\n",
    "lable_Val_X[object_cols]=ordinal_encoder.transform(Val_X[object_cols])\n",
    "lable_Train_X.head()"
   ]
  },
  {
   "cell_type": "code",
   "execution_count": 302,
   "id": "6019a58d",
   "metadata": {
    "scrolled": true
   },
   "outputs": [
    {
     "name": "stdout",
     "output_type": "stream",
     "text": [
      "For Max leaf node of 5000 Mean Absolute Error is 46837.67427884616\n",
      "For Max leaf node of 10000 Mean Absolute Error is 46837.67427884616\n",
      "For Max leaf node of 12000 Mean Absolute Error is 46837.67427884616\n",
      "For Max leaf node of 15000 Mean Absolute Error is 46837.67427884616\n"
     ]
    }
   ],
   "source": [
    "for max_leaf_nodes in [5000,10000,12000,15000]:\n",
    "    refined_mae=get_mae_Forest(max_leaf_nodes, lable_Train_X, lable_Val_X, Train_y, Val_y)\n",
    "    print(f\"For Max leaf node of {max_leaf_nodes} Mean Absolute Error is {refined_mae}\")"
   ]
  },
  {
   "cell_type": "code",
   "execution_count": 344,
   "id": "642fd0aa",
   "metadata": {},
   "outputs": [
    {
     "data": {
      "image/png": "[encoded data removed]",
      "text/plain": [
       "<Figure size 1000x600 with 1 Axes>"
      ]
     },
     "metadata": {},
     "output_type": "display_data"
    }
   ],
   "source": [
    "data_model=RandomForestRegressor(max_leaf_nodes=15000, random_state=1)\n",
    "data_model.fit(lable_Train_X, Train_y)\n",
    "Predicted=data_model.predict(lable_Val_X)\n",
    "df_results = pd.DataFrame({'Actual': Val_y, 'Predicted': Predicted})\n",
    "df_results.to_csv(r'C:\\Users\\lavan\\Desktop\\Portfolio Projects\\House Pricing Prediction\\prediction_2.csv', index=False)\n",
    "plt.figure(figsize=(10, 6))\n",
    "sns.scatterplot(x=Val_y, y=Predicted)\n",
    "max_val = max(max(Val_y), max(Predicted))\n",
    "min_val = min(min(Val_y), min(Predicted))\n",
    "plt.plot([min_val, max_val], [min_val, max_val], 'r--', lw=2)\n",
    "plt.xlabel('Actual Prices')\n",
    "plt.ylabel('Predicted Prices')\n",
    "plt.title('Actual vs Predicted Prices')\n",
    "plt.show()"
   ]
  },
  {
   "cell_type": "code",
   "execution_count": 304,
   "id": "0793a703",
   "metadata": {},
   "outputs": [],
   "source": [
    "from sklearn.preprocessing import OneHotEncoder\n",
    "OH_encoder = OneHotEncoder(handle_unknown = \"ignore\", sparse_output = False)"
   ]
  },
  {
   "cell_type": "code",
   "execution_count": 305,
   "id": "5dc7bb5b",
   "metadata": {},
   "outputs": [],
   "source": [
    "OH_cols_train = pd.DataFrame(OH_encoder.fit_transform(def_Train_X[object_cols]))\n",
    "OH_cols_val = pd.DataFrame(OH_encoder.transform(def_Val_X[object_cols]))\n",
    "OH_cols_train.index = def_Train_X.index\n",
    "OH_cols_val.index = def_Val_X.index\n",
    "num_Train_X = def_Train_X.drop(object_cols, axis=1)\n",
    "num_Val_X = def_Val_X.drop(object_cols, axis=1)\n",
    "OH_Train_X = pd.concat([num_Train_X, OH_cols_train], axis=1)\n",
    "OH_Val_X = pd.concat([num_Val_X, OH_cols_val], axis=1)\n",
    "OH_Train_X.columns = OH_Train_X.columns.astype(str)\n",
    "OH_Val_X.columns = OH_Val_X.columns.astype(str)"
   ]
  },
  {
   "cell_type": "code",
   "execution_count": 306,
   "id": "32c32692",
   "metadata": {},
   "outputs": [
    {
     "name": "stdout",
     "output_type": "stream",
     "text": [
      "For Max leaf node of 5000 Mean Absolute Error is 46481.70572916667\n",
      "For Max leaf node of 10000 Mean Absolute Error is 46481.70572916667\n",
      "For Max leaf node of 12000 Mean Absolute Error is 46481.70572916667\n",
      "For Max leaf node of 15000 Mean Absolute Error is 46481.70572916667\n"
     ]
    }
   ],
   "source": [
    "for max_leaf_nodes in [5000,10000,12000,15000]:\n",
    "    refined_mae=get_mae_Forest(max_leaf_nodes, OH_Train_X, OH_Val_X, Train_y, Val_y)\n",
    "    print(f\"For Max leaf node of {max_leaf_nodes} Mean Absolute Error is {refined_mae}\")"
   ]
  },
  {
   "cell_type": "code",
   "execution_count": 346,
   "id": "820a7899",
   "metadata": {},
   "outputs": [
    {
     "data": {
      "image/png": "[encoded data removed]",
      "text/plain": [
       "<Figure size 1000x600 with 1 Axes>"
      ]
     },
     "metadata": {},
     "output_type": "display_data"
    }
   ],
   "source": [
    "data_model=RandomForestRegressor(max_leaf_nodes=15000, random_state=1)\n",
    "data_model.fit(OH_Train_X, Train_y)\n",
    "Predicted=data_model.predict(OH_Val_X)\n",
    "df_results = pd.DataFrame({'Actual': Val_y, 'Predicted': Predicted})\n",
    "df_results.to_csv(r'C:\\Users\\lavan\\Desktop\\Portfolio Projects\\House Pricing Prediction\\prediction_3.csv', index=False)\n",
    "plt.figure(figsize=(10, 6))\n",
    "sns.scatterplot(x=Val_y, y=Predicted)\n",
    "max_val = max(max(Val_y), max(Predicted))\n",
    "min_val = min(min(Val_y), min(Predicted))\n",
    "plt.plot([min_val, max_val], [min_val, max_val], 'r--', lw=2)\n",
    "plt.xlabel('Actual Prices')\n",
    "plt.ylabel('Predicted Prices')\n",
    "plt.title('Actual vs Predicted Prices')\n",
    "plt.show()"
   ]
  }
 ],
 "metadata": {
  "kernelspec": {
   "display_name": "Python 3 (ipykernel)",
   "language": "python",
   "name": "python3"
  },
  "language_info": {
   "codemirror_mode": {
    "name": "ipython",
    "version": 3
   },
   "file_extension": ".py",
   "mimetype": "text/x-python",
   "name": "python",
   "nbconvert_exporter": "python",
   "pygments_lexer": "ipython3",
   "version": "3.11.5"
  }
 },
 "nbformat": 4,
 "nbformat_minor": 5
}
